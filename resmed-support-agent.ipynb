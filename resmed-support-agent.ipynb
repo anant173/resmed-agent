{
 "cells": [
  {
   "cell_type": "markdown",
   "id": "ac3ec4aa-5f94-4094-b379-f47643207067",
   "metadata": {},
   "source": [
    "## Initial Setup"
   ]
  },
  {
   "cell_type": "code",
   "execution_count": 2,
   "id": "8b90402f-4e9d-452d-b83c-05bdf09ab0de",
   "metadata": {},
   "outputs": [],
   "source": [
    "#LangChain\n",
    "from langchain_core.prompts import (\n",
    "    ChatPromptTemplate,\n",
    "    MessagesPlaceholder,\n",
    "    SystemMessagePromptTemplate,\n",
    ")\n",
    "from langchain_core.tools import tool\n",
    "from langchain_openai import ChatOpenAI\n",
    "from langchain_core.messages import AIMessage\n",
    "\n",
    "#LangGraph\n",
    "from langgraph.checkpoint.memory import MemorySaver\n",
    "from langgraph.prebuilt import create_react_agent\n",
    "\n",
    "#Pydantic and Typing\n",
    "from pydantic import BaseModel\n",
    "from typing import List, Dict, Any, Optional\n",
    "\n",
    "#Utilities\n",
    "from IPython.display import display, Markdown\n",
    "from dotenv import load_dotenv\n",
    "import os\n",
    "import uuid"
   ]
  },
  {
   "cell_type": "code",
   "execution_count": 3,
   "id": "1b2b074b-e8b4-43c6-865f-c1fd7449f7a7",
   "metadata": {},
   "outputs": [
    {
     "data": {
      "text/plain": [
       "True"
      ]
     },
     "execution_count": 3,
     "metadata": {},
     "output_type": "execute_result"
    }
   ],
   "source": [
    "# Load environment variables from .env file\n",
    "load_dotenv()"
   ]
  },
  {
   "cell_type": "markdown",
   "id": "e296166a-c613-4f92-beed-51ccb7fe7a35",
   "metadata": {},
   "source": [
    "## Agent Components"
   ]
  },
  {
   "cell_type": "markdown",
   "id": "02773bff-7937-4589-bbc6-ff82eb34cafe",
   "metadata": {},
   "source": [
    "### LLM"
   ]
  },
  {
   "cell_type": "code",
   "execution_count": 4,
   "id": "baeea475-d650-452b-99af-35aaba4d3245",
   "metadata": {},
   "outputs": [],
   "source": [
    "# LLM for reasoning and tool use\n",
    "llm = ChatOpenAI(\n",
    "    model=os.getenv(\"LLM_MODEL\"),\n",
    "    temperature=0.1,  # Lower temperature for precision needed in diagnostics\n",
    "    max_tokens=256,\n",
    "    streaming=True,\n",
    "    api_key=os.getenv(\"TFY_API_KEY\"),\n",
    "    base_url=os.getenv(\"LLM_GATEWAY_URL\"),\n",
    ")"
   ]
  },
  {
   "cell_type": "markdown",
   "id": "75e3c01d-bf73-4700-8985-dc241125cd7c",
   "metadata": {},
   "source": [
    "### Memory"
   ]
  },
  {
   "cell_type": "code",
   "execution_count": 5,
   "id": "097d6269-01f4-470b-85cc-f0003cce254b",
   "metadata": {},
   "outputs": [],
   "source": [
    "#Initialize State/Memory\n",
    "memory = MemorySaver()"
   ]
  },
  {
   "cell_type": "markdown",
   "id": "e0b94c7c-ccfd-46df-8b3e-8fffebcaedc4",
   "metadata": {},
   "source": [
    "### Prompt"
   ]
  },
  {
   "cell_type": "code",
   "execution_count": 6,
   "id": "83c89e32-5585-4333-a6c8-6c5c93bc8e4d",
   "metadata": {},
   "outputs": [],
   "source": [
    "#Prompt template\n",
    "prompt_template = ChatPromptTemplate.from_messages(\n",
    "    [\n",
    "        SystemMessagePromptTemplate.from_template(\n",
    "            \"\"\"\n",
    "    You are a **Certified Sleep Therapist and ResMed Device Support Agent**. Your primary goal is to \n",
    "    help users troubleshoot their CPAP devices, check their usage compliance, and provide accurate, \n",
    "    medically compliant information.\n",
    "\n",
    "    RULES:\n",
    "    1. **Prioritize Safety:** Do not recommend any changes to therapy pressure (settings) unless explicitly \n",
    "       instructed by a doctor or in a clear troubleshooting step (e.g., pressure check).\n",
    "    2. **Use Data First:** Always use your tools to check **device usage data** (leak rate, compliance) \n",
    "       before giving general advice, as the problem is often device-specific.\n",
    "    3. **Be Empathetic:** Maintain a professional, reassuring, and empathetic tone.\n",
    "    \"\"\"\n",
    "        ),\n",
    "        MessagesPlaceholder(variable_name=\"messages\", optional=True),\n",
    "    ]\n",
    ")"
   ]
  },
  {
   "cell_type": "markdown",
   "id": "66ec2bed-b1fd-4a39-8fd3-620d51a1e132",
   "metadata": {},
   "source": [
    "### Tools"
   ]
  },
  {
   "cell_type": "markdown",
   "id": "d16b30e2-17c7-4f37-9525-8cb358220168",
   "metadata": {},
   "source": [
    "#### Data Models"
   ]
  },
  {
   "cell_type": "code",
   "execution_count": 7,
   "id": "6a398794-dc54-4f33-ac0d-5b0810a47326",
   "metadata": {},
   "outputs": [],
   "source": [
    "class DeviceMetrics(BaseModel):\n",
    "    \"\"\"Represents real-time metrics for a CPAP device.\"\"\"\n",
    "    model_name: str\n",
    "    usage_hours_last_week: float\n",
    "    avg_mask_leak_rate: float\n",
    "    last_service_date: str"
   ]
  },
  {
   "cell_type": "code",
   "execution_count": 8,
   "id": "fe6d3002-e7e0-4027-ab8d-3bbc1b3ae8ac",
   "metadata": {},
   "outputs": [],
   "source": [
    "class DeviceData(BaseModel):\n",
    "    \"\"\"Simulates a user's cloud-connected device data.\"\"\"\n",
    "    device_metrics: List[DeviceMetrics]\n",
    "\n",
    "    def get_all_device_models(self) -> list[str]:\n",
    "        \"\"\"Returns a list of all connected device model names.\"\"\"\n",
    "        return [m.model_name for m in self.device_metrics]\n",
    "\n",
    "    def get_metrics_by_model(self, model_name: str) -> DeviceMetrics:\n",
    "        \"\"\"Returns the specific metrics for a given device model.\n",
    "\n",
    "        Raises:\n",
    "            ValueError: If the device model name is not found.\n",
    "        \"\"\"\n",
    "        for metrics in self.device_metrics:\n",
    "            if model_name.lower() == metrics.model_name.lower():\n",
    "                return metrics\n",
    "        \n",
    "        valid_models = self.get_all_device_models()\n",
    "        error_message = (\n",
    "            f\"Device model '{model_name}' not found. Valid models are: {', '.join(valid_models)}\"\n",
    "        )\n",
    "        raise ValueError(error_message)\n",
    "\n",
    "    def check_compliance(self, model_name: str) -> Dict[str, Any]:\n",
    "        \"\"\"Calculates compliance based on 7-day usage.\"\"\"\n",
    "        metrics = self.get_metrics_by_model(model_name)\n",
    "        \n",
    "        # Compliance requires 4 hours per night, 70% of nights (4/7 nights)\n",
    "        is_compliant = metrics.usage_hours_last_week >= (4 * 7 * 0.7)\n",
    "        \n",
    "        return {\n",
    "            \"compliant\": is_compliant,\n",
    "            \"usage\": f\"{metrics.usage_hours_last_week:.1f} hours last week\",\n",
    "            \"leak_rate\": f\"{metrics.avg_mask_leak_rate} L/min\",\n",
    "            \"recommendation\": \"High leak rate may require mask refitting.\" if metrics.avg_mask_leak_rate > 24 else \"Usage looks stable.\"\n",
    "        }"
   ]
  },
  {
   "cell_type": "markdown",
   "id": "852bc899-0ff9-4439-b6f8-9a2bef84e0bc",
   "metadata": {},
   "source": [
    "#### Tools"
   ]
  },
  {
   "cell_type": "code",
   "execution_count": 9,
   "id": "35b86974-c7bc-45b1-b5f0-697fc560e831",
   "metadata": {},
   "outputs": [],
   "source": [
    "# Simulated live data for the user's devices\n",
    "USER_DEVICES = DeviceData(\n",
    "    device_metrics=[\n",
    "        DeviceMetrics(model_name=\"AirSense 10\", usage_hours_last_week=32.5, avg_mask_leak_rate=15.2, last_service_date=\"2025-01-15\"),\n",
    "        DeviceMetrics(model_name=\"AirMini\", usage_hours_last_week=4.0, avg_mask_leak_rate=30.1, last_service_date=\"2024-11-01\"),\n",
    "    ]\n",
    ")"
   ]
  },
  {
   "cell_type": "code",
   "execution_count": 10,
   "id": "5ea4dea4-ac8f-4119-a45a-ac997518e11b",
   "metadata": {},
   "outputs": [],
   "source": [
    "@tool\n",
    "def list_available_devices() -> str:\n",
    "    \"\"\"List all connected device model names for which data is available.\"\"\"\n",
    "    return USER_DEVICES.get_all_device_models()"
   ]
  },
  {
   "cell_type": "code",
   "execution_count": 11,
   "id": "3278887a-9498-4c96-8c68-fd1a2aad8d1e",
   "metadata": {},
   "outputs": [],
   "source": [
    "@tool\n",
    "def check_device_compliance(model_name: str) -> str:\n",
    "    \"\"\"\n",
    "    Checks the user's therapy compliance metrics (usage hours and mask leak rate) \n",
    "    for a specific device model. Use the exact model name.\n",
    "    \"\"\"\n",
    "    try:\n",
    "        compliance_data = USER_DEVICES.check_compliance(model_name)\n",
    "        \n",
    "        response = f\"Compliance Status: {'COMPLIANT' if compliance_data['compliant'] else 'NON-COMPLIANT'}.\"\n",
    "        response += f\" Usage: {compliance_data['usage']}.\"\n",
    "        response += f\" Leak Rate: {compliance_data['leak_rate']}.\"\n",
    "        response += f\" Recommendation: {compliance_data['recommendation']}\"\n",
    "        return response\n",
    "    except ValueError as error:\n",
    "        return f\"{error}\""
   ]
  },
  {
   "cell_type": "code",
   "execution_count": 12,
   "id": "3601657c-90cf-45b9-ac70-b26ec302c1bd",
   "metadata": {},
   "outputs": [],
   "source": [
    "@tool\n",
    "def find_troubleshooting_manual(device_model: str, issue_keywords: str) -> str:\n",
    "    \"\"\"\n",
    "    Simulates searching a manual for specific issues (e.g., 'AirSense 10' and 'clicking sound').\n",
    "    Returns a link or text snippet from the manual.\n",
    "    \"\"\"\n",
    "    if \"clicking\" in issue_keywords.lower() and \"airsense 10\" in device_model.lower():\n",
    "        return \"Manual Page 52: Clicking sounds can be a symptom of filter blockage or water in the tubing. Please check and dry the tubing.\"\n",
    "    \n",
    "    return f\"I found no specific manual page for '{issue_keywords}' on the {device_model}. Try simplifying your query.\""
   ]
  },
  {
   "cell_type": "code",
   "execution_count": 13,
   "id": "b45ee0e1-431d-4a42-b8f9-47729b430ec0",
   "metadata": {},
   "outputs": [],
   "source": [
    "tools = [list_available_devices, check_device_compliance, find_troubleshooting_manual]"
   ]
  },
  {
   "cell_type": "markdown",
   "id": "bba6a6a6-542d-4979-9727-4b25fbe63ad3",
   "metadata": {},
   "source": [
    "## Create ReACT Agent"
   ]
  },
  {
   "cell_type": "code",
   "execution_count": 14,
   "id": "564bc37c-f3eb-49bd-afec-10ef614ebda0",
   "metadata": {},
   "outputs": [],
   "source": [
    "AGENT = create_react_agent(model=llm, tools=tools, state_modifier=prompt_template, checkpointer=memory)"
   ]
  },
  {
   "cell_type": "code",
   "execution_count": 15,
   "id": "7c7b1247-7de3-4508-ad62-b51815e88e4c",
   "metadata": {},
   "outputs": [],
   "source": [
    "def get_ai_response(events):\n",
    "    for event in reversed(events):\n",
    "        if event.get(\"messages\"):\n",
    "            last_message = event[\"messages\"][-1]\n",
    "            if isinstance(last_message, AIMessage) and not last_message.tool_calls:\n",
    "                try:\n",
    "                    content = last_message.content\n",
    "                    # Simplified content handling (keeping it robust)\n",
    "                    if isinstance(content, str):\n",
    "                        return content\n",
    "                    elif isinstance(content, list):\n",
    "                        # Assuming a flat list of items for simplicity\n",
    "                        return \" \".join([str(item) for item in content])\n",
    "                    else:\n",
    "                        return str(content)\n",
    "                except Exception as e:\n",
    "                    print(f\"Error extracting response: {e}\")\n",
    "                    return \"An error occurred while processing the response.\"\n",
    "\n",
    "    return None"
   ]
  },
  {
   "cell_type": "code",
   "execution_count": 16,
   "id": "1fe68cdf-631b-4552-bfc6-0bdfcac4c051",
   "metadata": {},
   "outputs": [],
   "source": [
    "def print_event(event):\n",
    "    message = event.get(\"messages\", [])\n",
    "    if message:\n",
    "        if isinstance(message, list):\n",
    "            message = message[-1]\n",
    "        message.pretty_print()"
   ]
  },
  {
   "cell_type": "code",
   "execution_count": 17,
   "id": "3fce36d0-b62a-4903-abe7-4a7f6df5b4fe",
   "metadata": {},
   "outputs": [],
   "source": [
    "def run_agent(thread_id: str, user_input: str):\n",
    "    config = {\"configurable\": {\"thread_id\": thread_id}}\n",
    "    inputs = {\"messages\": [(\"user\", user_input)]}\n",
    "\n",
    "    events = []\n",
    "    for event in AGENT.stream(inputs, config=config, stream_mode=\"values\"):\n",
    "        print_event(event)\n",
    "        events.append(event)\n",
    "\n",
    "    response = get_ai_response(events)\n",
    "    if response is None:\n",
    "        response = \"An internal error has occurred.\"\n",
    "    return {\"response\": response}"
   ]
  },
  {
   "cell_type": "markdown",
   "id": "6a3ddaa0-1eff-4b1b-a81c-3523c7bf18f7",
   "metadata": {},
   "source": [
    "### Bring It Together and Test"
   ]
  },
  {
   "cell_type": "code",
   "execution_count": 18,
   "id": "a7a7f46e-cbbe-4883-b4fb-8c8e1614c8ca",
   "metadata": {},
   "outputs": [],
   "source": [
    "thread_id = str(uuid.uuid4())"
   ]
  },
  {
   "cell_type": "code",
   "execution_count": 19,
   "id": "5b604983-aa68-4058-a1d2-8e9421a170ea",
   "metadata": {},
   "outputs": [
    {
     "name": "stdout",
     "output_type": "stream",
     "text": [
      "================================\u001b[1m Human Message \u001b[0m=================================\n",
      "\n",
      "I hear a clicking sound in my AirSense 10, what should I do?\n",
      "==================================\u001b[1m Ai Message \u001b[0m==================================\n",
      "Tool Calls:\n",
      "  find_troubleshooting_manual (call_xJsZ5kH9z0z2EdxSkyYWZf4O)\n",
      " Call ID: call_xJsZ5kH9z0z2EdxSkyYWZf4O\n",
      "  Args:\n",
      "    device_model: AirSense 10\n",
      "    issue_keywords: clicking sound\n",
      "=================================\u001b[1m Tool Message \u001b[0m=================================\n",
      "Name: find_troubleshooting_manual\n",
      "\n",
      "Manual Page 52: Clicking sounds can be a symptom of filter blockage or water in the tubing. Please check and dry the tubing.\n",
      "==================================\u001b[1m Ai Message \u001b[0m==================================\n",
      "\n",
      "A clicking sound in your AirSense 10 can be caused by a few issues, such as a blocked filter or water in the tubing. Here are some steps you can take to troubleshoot the problem:\n",
      "\n",
      "1. **Check the Filter:** Ensure that the air filter is clean and not blocked. If it's dirty, replace it with a new one.\n",
      "\n",
      "2. **Inspect the Tubing:** Look for any water in the tubing. If you find any, disconnect the tubing and allow it to dry completely before reattaching it.\n",
      "\n",
      "3. **Reassemble:** After checking the filter and tubing, reassemble your device and see if the clicking sound persists.\n",
      "\n",
      "If the issue continues after these checks, please let me know, and we can explore further troubleshooting options.\n"
     ]
    }
   ],
   "source": [
    "response = run_agent(thread_id, \"I hear a clicking sound in my AirSense 10, what should I do?\")"
   ]
  },
  {
   "cell_type": "code",
   "execution_count": 20,
   "id": "0310d855-2f19-4a08-b156-b921e62f4bc7",
   "metadata": {},
   "outputs": [
    {
     "data": {
      "text/markdown": [
       "A clicking sound in your AirSense 10 can be caused by a few issues, such as a blocked filter or water in the tubing. Here are some steps you can take to troubleshoot the problem:\n",
       "\n",
       "1. **Check the Filter:** Ensure that the air filter is clean and not blocked. If it's dirty, replace it with a new one.\n",
       "\n",
       "2. **Inspect the Tubing:** Look for any water in the tubing. If you find any, disconnect the tubing and allow it to dry completely before reattaching it.\n",
       "\n",
       "3. **Reassemble:** After checking the filter and tubing, reassemble your device and see if the clicking sound persists.\n",
       "\n",
       "If the issue continues after these checks, please let me know, and we can explore further troubleshooting options."
      ],
      "text/plain": [
       "<IPython.core.display.Markdown object>"
      ]
     },
     "metadata": {},
     "output_type": "display_data"
    }
   ],
   "source": [
    "display(Markdown(response['response']))"
   ]
  }
 ],
 "metadata": {
  "kernelspec": {
   "display_name": ".venv",
   "language": "python",
   "name": "python3"
  },
  "language_info": {
   "codemirror_mode": {
    "name": "ipython",
    "version": 3
   },
   "file_extension": ".py",
   "mimetype": "text/x-python",
   "name": "python",
   "nbconvert_exporter": "python",
   "pygments_lexer": "ipython3",
   "version": "3.13.5"
  }
 },
 "nbformat": 4,
 "nbformat_minor": 5
}
